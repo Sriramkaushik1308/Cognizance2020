{
  "nbformat": 4,
  "nbformat_minor": 0,
  "metadata": {
    "colab": {
      "name": "Untitled0.ipynb",
      "provenance": [],
      "authorship_tag": "ABX9TyPoZGMbsiVr5kpmnHw4WoN2",
      "include_colab_link": true
    },
    "kernelspec": {
      "name": "python3",
      "display_name": "Python 3"
    },
    "language_info": {
      "name": "python"
    }
  },
  "cells": [
    {
      "cell_type": "markdown",
      "metadata": {
        "id": "view-in-github",
        "colab_type": "text"
      },
      "source": [
        "<a href=\"https://colab.research.google.com/github/Sriramkaushik1308/Cognizance2020/blob/main/Untitled0.ipynb\" target=\"_parent\"><img src=\"https://colab.research.google.com/assets/colab-badge.svg\" alt=\"Open In Colab\"/></a>"
      ]
    },
    {
      "cell_type": "code",
      "execution_count": null,
      "metadata": {
        "id": "UdGrzR2HsM9K"
      },
      "outputs": [],
      "source": []
    },
    {
      "cell_type": "code",
      "source": [],
      "metadata": {
        "id": "uuuxYSW5sOo1"
      },
      "execution_count": null,
      "outputs": []
    },
    {
      "cell_type": "code",
      "source": [
        "%%time\n",
        "N = 10**8 \n",
        "list_ = list(range(N))\n",
        "for i in range(N) :\n",
        "  list_[i] = list_[i]*list_[i]"
      ],
      "metadata": {
        "colab": {
          "base_uri": "https://localhost:8080/"
        },
        "id": "ZzmAf2xHse6m",
        "outputId": "2f3887a6-fd66-4f7f-9389-9efc6df8b2a5"
      },
      "execution_count": 2,
      "outputs": [
        {
          "output_type": "stream",
          "name": "stdout",
          "text": [
            "CPU times: user 24.1 s, sys: 3.15 s, total: 27.3 s\n",
            "Wall time: 27.3 s\n"
          ]
        }
      ]
    },
    {
      "cell_type": "code",
      "source": [
        "%%time\n",
        "list_ = list(range(N))\n",
        "list_ = [item*item for item in list_]"
      ],
      "metadata": {
        "colab": {
          "base_uri": "https://localhost:8080/"
        },
        "id": "i9_AOQG-t8hS",
        "outputId": "94276a61-6816-4007-def8-fb1f107d2d62"
      },
      "execution_count": 8,
      "outputs": [
        {
          "output_type": "stream",
          "name": "stdout",
          "text": [
            "CPU times: user 10.6 s, sys: 4.54 s, total: 15.1 s\n",
            "Wall time: 17.8 s\n"
          ]
        }
      ]
    },
    {
      "cell_type": "code",
      "source": [
        "%%time\n",
        "list_ = list(range(N))\n",
        "list_ =  map(lambda x:x*x, list_)\n"
      ],
      "metadata": {
        "colab": {
          "base_uri": "https://localhost:8080/"
        },
        "id": "Kh_-5phTuyfs",
        "outputId": "b0c8309b-ec92-4175-f7e4-7e441d0963f9"
      },
      "execution_count": 7,
      "outputs": [
        {
          "output_type": "stream",
          "name": "stdout",
          "text": [
            "CPU times: user 1.68 s, sys: 2.56 s, total: 4.24 s\n",
            "Wall time: 4.5 s\n"
          ]
        }
      ]
    },
    {
      "cell_type": "code",
      "source": [
        "%%time\n",
        "import numpy as np\n",
        "N = 10**8\n",
        "arr = np.arange(N)\n",
        "arr = arr*arr"
      ],
      "metadata": {
        "colab": {
          "base_uri": "https://localhost:8080/"
        },
        "id": "65WYB5QTvDmF",
        "outputId": "090b21ee-de62-4cd3-f93b-fe01f8cdc31c"
      },
      "execution_count": 4,
      "outputs": [
        {
          "output_type": "stream",
          "name": "stdout",
          "text": [
            "CPU times: user 218 ms, sys: 736 ms, total: 954 ms\n",
            "Wall time: 959 ms\n"
          ]
        }
      ]
    },
    {
      "cell_type": "code",
      "source": [
        "%%time\n",
        "import numpy as np\n",
        "N = 10**8\n",
        "arr = np.arange(N)\n",
        "arr_sum = np.sum(list_)"
      ],
      "metadata": {
        "colab": {
          "base_uri": "https://localhost:8080/"
        },
        "id": "qJMDT6Qqvww5",
        "outputId": "234f871e-247c-4da9-a919-e84363670598"
      },
      "execution_count": 6,
      "outputs": [
        {
          "output_type": "stream",
          "name": "stdout",
          "text": [
            "CPU times: user 10.1 s, sys: 442 ms, total: 10.5 s\n",
            "Wall time: 10.5 s\n"
          ]
        }
      ]
    },
    {
      "cell_type": "code",
      "source": [
        "%%time\n",
        "import numpy as np\n",
        "N = 10**8\n",
        "list_ = list_(range(N))\n",
        "list_sum = 0 \n",
        "for in range(N) :"
      ],
      "metadata": {
        "id": "pcgR3hMLw52q"
      },
      "execution_count": null,
      "outputs": []
    },
    {
      "cell_type": "code",
      "source": [
        "%%time\n",
        "import numpy as np\n",
        "N = 10**8\n",
        "list_ = list(range(N))\n",
        "list_sum = 0\n",
        "for item in list_ :\n",
        "  list_sum = "
      ],
      "metadata": {
        "id": "pvK18LfVxdaj"
      },
      "execution_count": null,
      "outputs": []
    }
  ]
}